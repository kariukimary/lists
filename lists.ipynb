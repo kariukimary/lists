{
 "cells": [
  {
   "cell_type": "markdown",
   "id": "d18679b1",
   "metadata": {},
   "source": [
    "1.)Write a function called chop that takes a list and modifies\n",
    "it, removing the first and last elements, and returns None. Then write\n",
    "a function called middle that takes a list and returns a new list that\n",
    "contains all but the first and last elements."
   ]
  },
  {
   "cell_type": "code",
   "execution_count": 9,
   "id": "f347bd7a",
   "metadata": {},
   "outputs": [
    {
     "name": "stdout",
     "output_type": "stream",
     "text": [
      "[2, 3, 4]\n",
      "[3]\n"
     ]
    }
   ],
   "source": [
    "def chop(value):\n",
    "    del value[0]\n",
    "    del value[-1]\n",
    "    return  None\n",
    "my_list = [1, 2, 3, 4, 5]\n",
    "chop(my_list)\n",
    "print(my_list)\n",
    "def middle(value):\n",
    "    return value[1:-1]\n",
    "print(middle(my_list))\n",
    "\n"
   ]
  },
  {
   "cell_type": "markdown",
   "id": "309a45c1",
   "metadata": {},
   "source": [
    "2.)write the program that prompts the user for a list of\n",
    "numbers and prints out the maximum and minimum of the numbers at\n",
    "8.16. EXERCISES 107\n",
    "the end when the user enters “done”. Write the program to store the\n",
    "numbers the user enters in a list and use the max() and min() functions to\n",
    "compute the maximum and minimum numbers after the loop completes."
   ]
  },
  {
   "cell_type": "code",
   "execution_count": 11,
   "id": "0b31bc7c",
   "metadata": {},
   "outputs": [
    {
     "name": "stdout",
     "output_type": "stream",
     "text": [
      "enter the numbers34\n",
      "enter the numbers54\n",
      "enter the numbers12\n",
      "enter the numbers78\n",
      "enter the numbers37\n",
      "enter the numbersdone\n",
      "the maximum number is 78\n",
      "the minimum number is 12\n"
     ]
    }
   ],
   "source": [
    "numbers=[]\n",
    "while True:\n",
    "    number=input(\"enter the numbers\")\n",
    "    if number ==\"done\":\n",
    "        break\n",
    "    numbers.append(int(number))\n",
    "max_num=max(numbers)\n",
    "min_num=min(numbers)\n",
    "print(\"the maximum number is\", max_num)\n",
    "print(\"the minimum number is\", min_num)"
   ]
  }
 ],
 "metadata": {
  "kernelspec": {
   "display_name": "Python 3 (ipykernel)",
   "language": "python",
   "name": "python3"
  },
  "language_info": {
   "codemirror_mode": {
    "name": "ipython",
    "version": 3
   },
   "file_extension": ".py",
   "mimetype": "text/x-python",
   "name": "python",
   "nbconvert_exporter": "python",
   "pygments_lexer": "ipython3",
   "version": "3.9.7"
  }
 },
 "nbformat": 4,
 "nbformat_minor": 5
}
